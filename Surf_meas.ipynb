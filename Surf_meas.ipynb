{
 "cells": [
  {
   "cell_type": "code",
   "execution_count": 1,
   "id": "40c862bd-62f2-4693-9075-6e55ca69e92c",
   "metadata": {},
   "outputs": [
    {
     "data": {
      "application/vnd.jupyter.widget-view+json": {
       "model_id": "77349afebabd4dc5a25c7255196b3021",
       "version_major": 2,
       "version_minor": 0
      },
      "text/plain": [
       "Profiling:   0%|          | 0/214 [00:00<?, ?it/s]"
      ]
     },
     "metadata": {},
     "output_type": "display_data"
    },
    {
     "data": {
      "application/vnd.jupyter.widget-view+json": {
       "model_id": "95bac23ad9ab4d0e8cb2b1a79d4764c6",
       "version_major": 2,
       "version_minor": 0
      },
      "text/plain": [
       "Profiling:   0%|          | 0/164 [00:00<?, ?it/s]"
      ]
     },
     "metadata": {},
     "output_type": "display_data"
    },
    {
     "data": {
      "application/vnd.jupyter.widget-view+json": {
       "model_id": "df28e25aac9c4cf3907bcfb26013de27",
       "version_major": 2,
       "version_minor": 0
      },
      "text/plain": [
       "Profiling:   0%|          | 0/177 [00:00<?, ?it/s]"
      ]
     },
     "metadata": {},
     "output_type": "display_data"
    },
    {
     "data": {
      "application/vnd.jupyter.widget-view+json": {
       "model_id": "984ec139f9654d63adc4cebbee5f844c",
       "version_major": 2,
       "version_minor": 0
      },
      "text/plain": [
       "Profiling:   0%|          | 0/159 [00:00<?, ?it/s]"
      ]
     },
     "metadata": {},
     "output_type": "display_data"
    }
   ],
   "source": [
    "%run resources/surf_meas.py"
   ]
  },
  {
   "cell_type": "code",
   "execution_count": 2,
   "id": "1935c9db-a43f-423e-97e8-dd52e708d86c",
   "metadata": {},
   "outputs": [],
   "source": [
    "%matplotlib inline\n",
    "import seaborn as sns"
   ]
  },
  {
   "cell_type": "code",
   "execution_count": 3,
   "id": "c6289253-ec66-4237-be19-558df1197749",
   "metadata": {},
   "outputs": [],
   "source": [
    "surfs = [surf5, surf7, surf8, surf9]\n",
    "exps = [exp5, exp7, exp8, exp9]\n",
    "data = zip(exps, surfs)"
   ]
  },
  {
   "cell_type": "code",
   "execution_count": 4,
   "id": "a8e79c22-d969-44a3-b696-e787bb9a3240",
   "metadata": {},
   "outputs": [],
   "source": [
    "res_dfs = [pd.concat([exp.features, surf.meas_df], axis=1) for exp, surf in data]"
   ]
  },
  {
   "cell_type": "code",
   "execution_count": 5,
   "id": "595abf6c-90eb-4603-a54c-87e61069684f",
   "metadata": {
    "tags": []
   },
   "outputs": [],
   "source": [
    "res_dfs[0].drop([23,24], inplace=True)"
   ]
  },
  {
   "cell_type": "code",
   "execution_count": 6,
   "id": "ad501553-9b01-4b8d-97d7-c796facf7d87",
   "metadata": {
    "tags": []
   },
   "outputs": [],
   "source": [
    "def corr_matrix(df: pd.DataFrame):\n",
    "    cols = df.columns\n",
    "    fig, ax = plt.subplots(figsize=(8, 6), dpi=100)\n",
    "    corr = df.corr().iloc[:7, -9:]\n",
    "    sns.heatmap(corr,\n",
    "                ax=ax,\n",
    "                annot=True,\n",
    "                vmin=-1,\n",
    "                vmax=1) \\\n",
    "        .set(title='Correlation Matrix')\n",
    "    plt.tight_layout()\n",
    "    # plt.show()\n",
    "    return corr\n",
    "\n",
    "for df in res_dfs: corr_matrix(df)"
   ]
  },
  {
   "cell_type": "code",
   "execution_count": 7,
   "id": "65e36e93-1629-4229-8c74-76262a471b61",
   "metadata": {},
   "outputs": [],
   "source": [
    "for df in res_dfs: df.plot(y=['Kurtosis', 'Rq'], subplots=True)"
   ]
  },
  {
   "cell_type": "code",
   "execution_count": null,
   "id": "cd1a253b-8e0e-4e18-ab61-88802f36846c",
   "metadata": {},
   "outputs": [],
   "source": []
  }
 ],
 "metadata": {
  "kernelspec": {
   "display_name": "Python 3 (ipykernel)",
   "language": "python",
   "name": "python3"
  },
  "language_info": {
   "codemirror_mode": {
    "name": "ipython",
    "version": 3
   },
   "file_extension": ".py",
   "mimetype": "text/x-python",
   "name": "python",
   "nbconvert_exporter": "python",
   "pygments_lexer": "ipython3",
   "version": "3.10.8"
  }
 },
 "nbformat": 4,
 "nbformat_minor": 5
}
