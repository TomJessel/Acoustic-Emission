{
 "cells": [
  {
   "cell_type": "markdown",
   "id": "fdda200f-2cd6-4d64-9e80-b082ac3ac85d",
   "metadata": {},
   "source": [
    "# Optimise Hyperparamters"
   ]
  },
  {
   "cell_type": "code",
   "execution_count": 1,
   "id": "70392f86-7f79-4516-9506-6d05c41aa8da",
   "metadata": {},
   "outputs": [],
   "source": [
    "from ml_mlp import MLP_Model\n",
    "from ml_mlp import Linear_Model\n",
    "from ml_mlp import MLP_Win_Model\n",
    "from ml_mlp import LSTM_Model\n",
    "import resources\n",
    "import pandas as pd\n",
    "import matplotlib.pyplot as plt\n",
    "import numpy as np\n",
    "from scikeras.wrappers import KerasRegressor\n",
    "import tensorflow as tf\n",
    "tf.get_logger().setLevel('ERROR')\n",
    "import multiprocessing\n",
    "multiprocessing.set_start_method(\"spawn\")"
   ]
  },
  {
   "cell_type": "code",
   "execution_count": 2,
   "id": "b3698890-b5ae-4e33-972d-9c193e7e3f62",
   "metadata": {},
   "outputs": [],
   "source": [
    "%matplotlib inline"
   ]
  },
  {
   "cell_type": "code",
   "execution_count": 3,
   "id": "b71e2299-9da7-463e-bc97-9ddf06f2b13d",
   "metadata": {
    "scrolled": true
   },
   "outputs": [],
   "source": [
    "exp5 = resources.load('Test 5')\n",
    "exp7 = resources.load('Test 7')\n",
    "exp8 = resources.load('Test 8')\n",
    "exp9 = resources.load('Test 9')"
   ]
  },
  {
   "cell_type": "code",
   "execution_count": 4,
   "id": "8bcee6c9-657e-49b4-9d20-e807aac59d8e",
   "metadata": {
    "tags": []
   },
   "outputs": [],
   "source": [
    "dfs = [exp5.features.drop([23, 24]), exp7.features, exp8.features, exp9.features]\n",
    "main_df = pd.concat(dfs)\n",
    "main_df = main_df.drop(columns=['Runout', 'Form error', 'Peak radius', 'Radius diff'])#.drop([0, 1, 2, 3])\n",
    "main_df.reset_index(drop=True, inplace=True)"
   ]
  },
  {
   "cell_type": "markdown",
   "id": "15f1bc4f-b7ac-4410-9cd6-3749fb9b21ad",
   "metadata": {},
   "source": [
    "## Create Models"
   ]
  },
  {
   "cell_type": "code",
   "execution_count": 5,
   "id": "ed1f37a7-53d9-4b89-95bc-7d9cdc0d2d57",
   "metadata": {},
   "outputs": [],
   "source": [
    "EPOCHS = [2000]\n",
    "LOSS = ['mse']\n",
    "NO_NODES = [128]\n",
    "DROPOUT = [0.01, 0.1, 0.2, 0.5]\n",
    "BATCH_SIZE = [15]\n",
    "SEQ_LEN = [5, 10, 15]\n",
    "NO_LAYERS = [1, 2, 3, 4]\n",
    "INIT_MODE = ['glorot_normal', 'glorot_uniform', 'he_normal', 'he_uniform', 'random_normal']\n"
   ]
  },
  {
   "cell_type": "code",
   "execution_count": null,
   "id": "47b4f982-43bb-49fb-85ee-b4b1fadfb0be",
   "metadata": {
    "pycharm": {
     "is_executing": true
    },
    "tags": []
   },
   "outputs": [
    {
     "name": "stdout",
     "output_type": "stream",
     "text": [
      "-----------------------------------------------------------------\n",
      "MLP-E-2000-B-15-L[128]-D-0.01-20230112-100123\n"
     ]
    },
    {
     "data": {
      "application/vnd.jupyter.widget-view+json": {
       "model_id": "d2cc16215fd043ee825d7cc0ca693602",
       "version_major": 2,
       "version_minor": 0
      },
      "text/plain": [
       "CV Model:   0%|          | 0/100 [00:00<?, ?it/s]"
      ]
     },
     "metadata": {},
     "output_type": "display_data"
    },
    {
     "name": "stdout",
     "output_type": "stream",
     "text": [
      "-----------------------------------------------------------------\n",
      "CV Scores:\n",
      "-----------------------------------------------------------------\n",
      "MAE: 2.329 (±0.775)µm\n",
      "MSE: 33.854 (±66.970) µm²\n",
      "R^2: 0.714 (± 0.533)\n",
      "-----------------------------------------------------------------\n",
      "MLP-E-2000-B-15-L[128]-D-0.01-20230112-100123\n"
     ]
    },
    {
     "data": {
      "application/vnd.jupyter.widget-view+json": {
       "model_id": "ffb5f3afa9e44c8883c16f26ca9c1b3b",
       "version_major": 2,
       "version_minor": 0
      },
      "text/plain": [
       "Training:   0%|                                                    0/2000 ETA: ?s,  ?epochs/s"
      ]
     },
     "metadata": {},
     "output_type": "display_data"
    },
    {
     "name": "stdout",
     "output_type": "stream",
     "text": [
      "-----------------------------------------------------------------\n",
      "Validation Scores:\n",
      "-----------------------------------------------------------------\n",
      "MAE = 3.348 um\n",
      "MSE = 115.387 um^2\n",
      "R^2 = 0.006\n",
      "-----------------------------------------------------------------\n",
      "MLP-E-2000-B-15-L[128]-D-0.01-20230112-101655\n"
     ]
    },
    {
     "data": {
      "application/vnd.jupyter.widget-view+json": {
       "model_id": "d1b4e4504af54f13980f374d1477dfcc",
       "version_major": 2,
       "version_minor": 0
      },
      "text/plain": [
       "CV Model:   0%|          | 0/100 [00:00<?, ?it/s]"
      ]
     },
     "metadata": {},
     "output_type": "display_data"
    },
    {
     "name": "stdout",
     "output_type": "stream",
     "text": [
      "-----------------------------------------------------------------\n",
      "CV Scores:\n",
      "-----------------------------------------------------------------\n",
      "MAE: 2.517 (±0.682)µm\n",
      "MSE: 35.422 (±44.354) µm²\n",
      "R^2: 0.702 (± 0.367)\n",
      "-----------------------------------------------------------------\n",
      "MLP-E-2000-B-15-L[128]-D-0.01-20230112-101655\n"
     ]
    },
    {
     "data": {
      "application/vnd.jupyter.widget-view+json": {
       "model_id": "07191146bb014b7cbd9f1e0f357ba0cd",
       "version_major": 2,
       "version_minor": 0
      },
      "text/plain": [
       "Training:   0%|                                                    0/2000 ETA: ?s,  ?epochs/s"
      ]
     },
     "metadata": {},
     "output_type": "display_data"
    },
    {
     "name": "stdout",
     "output_type": "stream",
     "text": [
      "-----------------------------------------------------------------\n",
      "Validation Scores:\n",
      "-----------------------------------------------------------------\n",
      "MAE = 2.118 um\n",
      "MSE = 13.874 um^2\n",
      "R^2 = 0.898\n",
      "-----------------------------------------------------------------\n",
      "MLP-E-2000-B-15-L[128]-D-0.01-20230112-103231\n"
     ]
    },
    {
     "data": {
      "application/vnd.jupyter.widget-view+json": {
       "model_id": "e03982c1b2004edd97aa1e05073ddc59",
       "version_major": 2,
       "version_minor": 0
      },
      "text/plain": [
       "CV Model:   0%|          | 0/100 [00:00<?, ?it/s]"
      ]
     },
     "metadata": {},
     "output_type": "display_data"
    }
   ],
   "source": [
    "for no_layers in NO_LAYERS:\n",
    "    for init_mode in INIT_MODE:\n",
    "        hparams = {\n",
    "            'epochs': 2000,\n",
    "            'loss': 'mse',\n",
    "            'no_nodes': 128,\n",
    "            'dropout': 0.01,\n",
    "            'batch_size': 15,\n",
    "            'no_layers': no_layers,\n",
    "            'init_mode': init_mode,\n",
    "        }    \n",
    "\n",
    "        mlp_reg = MLP_Model(feature_df=main_df,\n",
    "                            target='Mean radius',\n",
    "                            tb=True,\n",
    "                            tb_logdir='hparam_test_4',\n",
    "                            params=hparams\n",
    "                           )\n",
    "\n",
    "        mlp_reg.cv(n_splits=10, n_repeats=10)\n",
    "        mlp_reg.fit(validation_split=0.1, verbose=0)\n",
    "        mlp_reg.score(plot_fig=False);"
   ]
  },
  {
   "cell_type": "code",
   "execution_count": null,
   "id": "b97f528e-1050-4c9a-a90e-647522391226",
   "metadata": {
    "tags": []
   },
   "outputs": [],
   "source": [
    "for epoch in EPOCHS:\n",
    "    for loss in LOSS:\n",
    "        for no_nodes in NO_NODES:\n",
    "            for seq_len in SEQ_LEN:\n",
    "                hparams = {\n",
    "                    'epochs': epoch,\n",
    "                    'loss': loss,\n",
    "                    'no_nodes': no_nodes,\n",
    "                    'seq_len': seq_len,\n",
    "                } \n",
    "                mlp_win_reg = MLP_Win_Model(feature_df=main_df,\n",
    "                                            target='Mean radius',\n",
    "                                            tb=True,\n",
    "                                            tb_logdir='hparam_test',\n",
    "                                            params=hparams\n",
    "                                            )\n",
    "                mlp_win_reg.cv(n_splits=10, n_repeats=10)\n",
    "                mlp_win_reg.fit(validation_split=0.1, verbose=0)\n",
    "                mlp_win_reg.score(plot_fig=False);"
   ]
  },
  {
   "cell_type": "code",
   "execution_count": null,
   "id": "89c8eef4-dfa9-4269-a538-0f7b39de2ff9",
   "metadata": {
    "tags": []
   },
   "outputs": [],
   "source": [
    "for epoch in EPOCHS:\n",
    "    for loss in LOSS:\n",
    "        for no_nodes in NO_NODES:\n",
    "            for seq_len in SEQ_LEN:\n",
    "                hparams = {\n",
    "                    'epochs': epoch,\n",
    "                    'loss': loss,\n",
    "                    'no_nodes': no_nodes,\n",
    "                    'seq_len': seq_len,\n",
    "                } \n",
    "                lstm_reg = LSTM_Model(feature_df=main_df,\n",
    "                                      target='Mean radius',\n",
    "                                      tb=True,\n",
    "                                      tb_logdir='hparam_test',\n",
    "                                      params=hparams\n",
    "                                      )\n",
    "                lstm_reg.cv(n_splits=10, n_repeats=10)\n",
    "                lstm_reg.fit(validation_split=0.1, verbose=0)\n",
    "                lstm_reg.score(plot_fig=False);"
   ]
  },
  {
   "cell_type": "code",
   "execution_count": null,
   "id": "6f80b2c5-4b49-4d34-a9f0-0089b01664d6",
   "metadata": {},
   "outputs": [],
   "source": []
  }
 ],
 "metadata": {
  "kernelspec": {
   "display_name": "Python 3 (ipykernel)",
   "language": "python",
   "name": "python3"
  },
  "language_info": {
   "codemirror_mode": {
    "name": "ipython",
    "version": 3
   },
   "file_extension": ".py",
   "mimetype": "text/x-python",
   "name": "python",
   "nbconvert_exporter": "python",
   "pygments_lexer": "ipython3",
   "version": "3.10.8"
  }
 },
 "nbformat": 4,
 "nbformat_minor": 5
}
