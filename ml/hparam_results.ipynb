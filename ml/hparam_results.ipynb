{
 "cells": [
  {
   "cell_type": "code",
   "execution_count": null,
   "id": "b26188cd-d9ae-47f6-a382-373d54955773",
   "metadata": {
    "tags": []
   },
   "outputs": [],
   "source": [
    "import os\n",
    "import warnings\n",
    "warnings.simplefilter(action='ignore', category=FutureWarning)\n",
    "import matplotlib.pyplot as plt\n",
    "import pandas as pd\n",
    "import numpy as np\n",
    "from resources.ml_mlp import parse_tensorboard\n",
    "from IPython.display import display"
   ]
  },
  {
   "cell_type": "code",
   "execution_count": null,
   "id": "75ff06a1-425c-46ba-abf0-daed21c92ef5",
   "metadata": {},
   "outputs": [],
   "source": [
    "%pwd\n",
    "%cd ../../../ml/Tensorboard/\n",
    "\n",
    "folder = r'MLP/hparam_test_4/'\n",
    "\n",
    "# folder = r'MLP_WIN/hparam_test_2/D_0.1'\n",
    "# folder = r'MLP_WIN/hparam_test'"
   ]
  },
  {
   "cell_type": "code",
   "execution_count": null,
   "id": "c9ddec7a-90a3-433d-85b9-b287d2682e78",
   "metadata": {
    "scrolled": true,
    "tags": []
   },
   "outputs": [],
   "source": [
    "path = os.path.join(folder, r'Results/hparams_table.csv')\n",
    "results = pd.read_csv(path)\n",
    "# results.sort_values(by=['epochs','no_nodes']).reset_index(drop=True)"
   ]
  },
  {
   "cell_type": "code",
   "execution_count": null,
   "id": "79e8f78d-4d19-4aff-9674-19f5e8251926",
   "metadata": {},
   "outputs": [],
   "source": [
    "metrics = ['CV MAE (µm)',\n",
    "         'CV MSE (µm²)',\n",
    "         'CV R²',\n",
    "         'CV Std MAE (± µm)',\n",
    "         'CV Std MSE (± µm²)',\n",
    "         'CV Std R² (±)',\n",
    "         'Val MAE (µm)',\n",
    "         'Val MSE (µm²)',\n",
    "         'Val R²']\n",
    "\n",
    "hparams = [hp for hp in results.keys() if hp not in metrics and results[hp].nunique() != 1]\n",
    "hparams"
   ]
  },
  {
   "cell_type": "markdown",
   "id": "d4bab6b6-1e0e-427e-b7be-831692b9acb7",
   "metadata": {
    "tags": []
   },
   "source": [
    "Attempt to load in scalar data to pandas"
   ]
  },
  {
   "cell_type": "code",
   "execution_count": null,
   "id": "f7df66a1-087b-4b34-8dfb-a2bb45c23664",
   "metadata": {},
   "outputs": [],
   "source": [
    "scalars = ['cv_iter/mse', 'cv_iter/mae', 'cv_iter/r2']\n",
    "\n",
    "dirs = os.listdir(folder)\n",
    "a = ['MLP_Win-', 'MLP-', 'LSTM-']\n",
    "dirs = [x for x in dirs if any(a in x for a in a)]\n",
    "dirs.sort()"
   ]
  },
  {
   "cell_type": "code",
   "execution_count": null,
   "id": "90df75eb-6159-4b87-85bf-04a3bdeccf05",
   "metadata": {
    "scrolled": true,
    "tags": []
   },
   "outputs": [],
   "source": [
    "df = {x: parse_tensorboard(os.path.join(folder, x), scalars)\n",
    "                        for x in dirs}\n",
    "df = pd.concat(df.values(), keys=df.keys())\n",
    "\n",
    "results['trial_id'] = df.index.levels[0]\n",
    "for col in df.columns.values:\n",
    "    if 'mse' in col:\n",
    "        scale = 1e6\n",
    "    elif 'mae' in col:\n",
    "        scale = 1e3\n",
    "    else:\n",
    "        scale = 1\n",
    "            \n",
    "    data = [df.loc[trial_id][col].values * scale for trial_id in df.index.levels[0]]\n",
    "    results[col] = data\n",
    "results"
   ]
  },
  {
   "cell_type": "code",
   "execution_count": null,
   "id": "4fc43ceb-820c-4a94-bcb5-cd4adffc1a57",
   "metadata": {},
   "outputs": [],
   "source": [
    "def cv_iter_boxplot(results, hparam, scalars):\n",
    "    test = [results.groupby(hparam)[scalar].apply(np.hstack) for scalar in scalars]    \n",
    "    test = pd.concat(test, axis=1)\n",
    "    fig, axes = plt.subplots(1, 3)\n",
    "    for i, ax in enumerate(axes):\n",
    "        ax.boxplot(x=test.iloc[:,i], labels=test.index.values, showfliers=False, medianprops={'color': 'r'})\n",
    "        ax.set_xlabel(hparam)\n",
    "        # ax.set_ylabel(test.columns.values[i])\n",
    "        ax.tick_params('x', labelrotation=90)\n",
    "    \n",
    "    fig.suptitle(f'CV scores by {hparam}')\n",
    "    axes[0].set_title('Val MSE (µm²)')\n",
    "    axes[1].set_title('Val MAE (µm)')\n",
    "    axes[2].set_title('Val R²')\n",
    "    plt.tight_layout()\n",
    "\n",
    "for hparam in hparams:\n",
    "    cv_iter_boxplot(results, hparam, scalars)\n",
    "\n",
    "\n",
    "    "
   ]
  },
  {
   "cell_type": "code",
   "execution_count": null,
   "id": "efafb701-a8dc-4be5-a4ab-1990368d6ef7",
   "metadata": {},
   "outputs": [],
   "source": [
    "def plt_boxplot(result_df, hparam):\n",
    "    plt.rc('font', weight='normal')\n",
    "    axes = result_df.boxplot(column=['Val MSE (µm²)', 'Val MAE (µm)', 'Val R²'],\n",
    "                      by=hparam,\n",
    "                      layout=(1,3),\n",
    "                      rot=90,\n",
    "                      sharey=False,\n",
    "                      showfliers=True,\n",
    "                      grid=False,\n",
    "                      color=dict(boxes='k', whiskers='k', medians='r', caps='k'),\n",
    "                     )\n",
    "    plt.suptitle(f'Validation scores by {hparam}')\n",
    "    plt.tight_layout()\n",
    "\n",
    "for hparam in hparams:\n",
    "    plt_boxplot(results, hparam)"
   ]
  },
  {
   "cell_type": "code",
   "execution_count": null,
   "id": "de01f139-0542-46a7-86e1-b693b14d6db6",
   "metadata": {},
   "outputs": [],
   "source": [
    "def mean_hparam(result_df, hparam):\n",
    "    other_hp = [hp for hp in hparams if hp is not hparam]\n",
    "    result_df = result_df.groupby([hparam]).mean(numeric_only=True).drop(columns=other_hp, errors='ignore')\n",
    "    display(result_df.loc[:,result_df.nunique()!=1])\n",
    "    \n",
    "for hparam in hparams:\n",
    "    mean_hparam(results, hparam)"
   ]
  },
  {
   "cell_type": "code",
   "execution_count": null,
   "id": "6fdf4bc9-4e2f-4410-bed8-a12a03e23bb7",
   "metadata": {},
   "outputs": [],
   "source": []
  }
 ],
 "metadata": {
  "kernelspec": {
   "display_name": "Python 3 (ipykernel)",
   "language": "python",
   "name": "python3"
  },
  "language_info": {
   "codemirror_mode": {
    "name": "ipython",
    "version": 3
   },
   "file_extension": ".py",
   "mimetype": "text/x-python",
   "name": "python",
   "nbconvert_exporter": "python",
   "pygments_lexer": "ipython3",
   "version": "3.10.8"
  }
 },
 "nbformat": 4,
 "nbformat_minor": 5
}
