{
 "cells": [
  {
   "cell_type": "code",
   "execution_count": null,
   "metadata": {
    "tags": []
   },
   "outputs": [],
   "source": [
    "from resources.ml_mlp import MLP_Model\n",
    "from resources.ml_mlp import Linear_Model\n",
    "from resources.ml_mlp import MLP_Win_Model\n",
    "from resources.ml_mlp import LSTM_Model\n",
    "import resources\n",
    "import pandas as pd\n",
    "import matplotlib.pyplot as plt\n",
    "import numpy as np\n",
    "from scikeras.wrappers import KerasRegressor\n",
    "import tensorflow as tf\n",
    "tf.get_logger().setLevel('ERROR')\n",
    "import multiprocessing\n",
    "multiprocessing.set_start_method(\"spawn\")\n",
    "from launch_tb import launch_tb"
   ]
  },
  {
   "cell_type": "code",
   "execution_count": null,
   "metadata": {},
   "outputs": [],
   "source": [
    "plt.rcParams.update({\n",
    "    # \"text.usetex\": True,\n",
    "    # \"font.family\": \"serif\",\n",
    "    # \"font.serif\": [\"Computer Modern Roman\"],\n",
    "    \"font.size\": 12,\n",
    "})\n",
    "%matplotlib inline"
   ]
  },
  {
   "attachments": {},
   "cell_type": "markdown",
   "metadata": {
    "tags": []
   },
   "source": [
    "## Pre-process data \n",
    "Load in feature datasets, remove wear in phase and combine."
   ]
  },
  {
   "cell_type": "code",
   "execution_count": null,
   "metadata": {
    "scrolled": true
   },
   "outputs": [],
   "source": [
    "exp5 = resources.load('Test 5')\n",
    "exp7 = resources.load('Test 7')\n",
    "exp8 = resources.load('Test 8')\n",
    "\n",
    "exp9 = resources.load('Test 9')"
   ]
  },
  {
   "cell_type": "code",
   "execution_count": null,
   "metadata": {},
   "outputs": [],
   "source": [
    "dfs = [exp5.features.drop([23, 24]), exp7.features, exp8.features, exp9.features]"
   ]
  },
  {
   "cell_type": "code",
   "execution_count": null,
   "metadata": {},
   "outputs": [],
   "source": [
    "dfs = [df.drop([0, 1, 2, 3]) for df in dfs]"
   ]
  },
  {
   "cell_type": "code",
   "execution_count": null,
   "metadata": {},
   "outputs": [],
   "source": [
    "main_df = pd.concat(dfs)\n",
    "main_df = main_df.drop(columns=['Runout', 'Form error', 'Peak radius', 'Radius diff'])#.drop([0, 1, 2, 3])\n",
    "main_df.reset_index(drop=True, inplace=True)\n",
    "print(f'Main df : {main_df.shape[0]} rows x {main_df.shape[1]} cols')\n",
    "main_df.head()"
   ]
  },
  {
   "cell_type": "code",
   "execution_count": null,
   "metadata": {
    "jupyter": {
     "source_hidden": true
    },
    "pycharm": {
     "is_executing": true
    },
    "tags": []
   },
   "outputs": [],
   "source": [
    "def pred_plot(y: np.ndarray, y_pred: np.ndarray, title:str = ''):\n",
    "    fig1, ax1 = plt.subplots()\n",
    "    fig2, ax2 = plt.subplots()\n",
    "    ax1.scatter(y, y_pred)\n",
    "\n",
    "    # limits of max radius\n",
    "    # xmax = main_df['Mean radius'].values.max()\n",
    "    # xmin = main_df['Mean radius'].values.min()\n",
    "    xmax = 0.68\n",
    "    xmin = 0.6\n",
    "    \n",
    "\n",
    "    ax1.set_xlim([xmin, xmax])\n",
    "    ax1.set_ylim([xmin, xmax])\n",
    "\n",
    "    lims = [\n",
    "        np.min([ax1.get_xlim(), ax1.get_ylim()]),\n",
    "        np.max([ax1.get_xlim(), ax1.get_ylim()]),\n",
    "    ]\n",
    "    ax1.set_axisbelow(True)\n",
    "    ax1.grid()\n",
    "    ax1.plot(lims, lims, 'k-', alpha=0.75, zorder=0)\n",
    "    ax1.set_aspect('equal')\n",
    "    ax1.set_xlabel('Actual Y (mm)')\n",
    "    ax1.set_ylabel('Predicted Y (mm)')\n",
    "    ax1.set_title(f'{title} - Predictions');\n",
    "     \n",
    "    diff = (y - y_pred)*1000\n",
    "\n",
    "    ax2.hist(diff, bins=30)\n",
    "    ax2.set_xlabel('Prediction Error / um')\n",
    "    ax2.set_ylabel('No Occurances')\n",
    "    ax2.set_title(f'{title} - Histogram');\n",
    "\n",
    "    fig1.tight_layout()\n",
    "    fig2.tight_layout()\n"
   ]
  },
  {
   "cell_type": "markdown",
   "metadata": {},
   "source": [
    "## MLP"
   ]
  },
  {
   "cell_type": "code",
   "execution_count": null,
   "metadata": {
    "tags": []
   },
   "outputs": [],
   "source": [
    "mlp_reg = MLP_Model(feature_df=main_df,\n",
    "                    target='Mean radius',\n",
    "                    tb=True,\n",
    "                    tb_logdir='tmux-test',\n",
    "                    params={'loss': 'mse',\n",
    "                            'no_layers': 3,\n",
    "                            'no_nodes': 128,\n",
    "                            'epochs': 100,\n",
    "                            'dropout': 0.01,\n",
    "                            'batch_size': 20,\n",
    "                            'init_mode': 'glorot_uniform',\n",
    "                            },\n",
    "                    random_state=11,\n",
    "                    )"
   ]
  },
  {
   "cell_type": "code",
   "execution_count": null,
   "metadata": {},
   "outputs": [],
   "source": [
    "launch_tb(f'MLP/tmux-test')"
   ]
  },
  {
   "cell_type": "code",
   "execution_count": null,
   "metadata": {
    "pycharm": {
     "is_executing": true
    },
    "tags": []
   },
   "outputs": [],
   "source": [
    "# mlp_reg.cv(n_splits=10, n_repeats=10)\n",
    "mlp_reg.fit(validation_split=0.1, verbose=0)\n",
    "# mlp_reg.score(plot_fig=False);"
   ]
  },
  {
   "cell_type": "code",
   "execution_count": null,
   "metadata": {
    "pycharm": {
     "is_executing": true
    }
   },
   "outputs": [],
   "source": [
    "# y = mlp_reg.val_data[1].values\n",
    "# y_pred = mlp_reg.model.predict(mlp_reg.val_data[0].values, verbose=0)\n",
    "# pred_plot(y, y_pred, 'MLP')"
   ]
  },
  {
   "cell_type": "markdown",
   "metadata": {},
   "source": [
    "## MLP with Window"
   ]
  },
  {
   "cell_type": "code",
   "execution_count": null,
   "metadata": {},
   "outputs": [],
   "source": [
    "mlp_win_reg = MLP_Win_Model(feature_df=main_df,\n",
    "                            target='Mean radius',\n",
    "                            tb=False,\n",
    "                            tb_logdir='tmux-test',\n",
    "                            params={'seq_len': 5,\n",
    "                                    'loss': 'mse',\n",
    "                                    'epochs':2000,\n",
    "                                    'no_nodes': 128,\n",
    "                                    'no_layers': 3,\n",
    "                                    'batch_size': 20,\n",
    "                                    'init_mode': 'glorot_uniform',\n",
    "                                    'dropout': 0.01,\n",
    "                                    },\n",
    "                            random_state=11,\n",
    "                            )"
   ]
  },
  {
   "cell_type": "code",
   "execution_count": null,
   "metadata": {
    "pycharm": {
     "is_executing": true
    },
    "tags": []
   },
   "outputs": [],
   "source": [
    "mlp_win_reg.cv(n_splits=10, n_repeats=10)\n",
    "mlp_win_reg.fit(validation_split=0.2, verbose=0)\n",
    "mlp_win_reg.score(plot_fig=False);"
   ]
  },
  {
   "cell_type": "code",
   "execution_count": null,
   "metadata": {
    "tags": []
   },
   "outputs": [],
   "source": [
    "# y = mlp_win_reg.val_data[1]\n",
    "# y_pred = mlp_win_reg.model.predict(mlp_win_reg.val_data[0], verbose=0)\n",
    "# pred_plot(y, y_pred, 'MLP_WIN')"
   ]
  },
  {
   "cell_type": "markdown",
   "metadata": {},
   "source": [
    "## LSTM"
   ]
  },
  {
   "cell_type": "code",
   "execution_count": null,
   "metadata": {},
   "outputs": [],
   "source": [
    "lstm_reg = LSTM_Model(feature_df=main_df,\n",
    "                      target='Mean radius',\n",
    "                      tb=False,\n",
    "                      tb_logdir='testing',\n",
    "                      params={'seq_len': 15,\n",
    "                              'loss': 'mse',\n",
    "                              'epochs': 1500,\n",
    "                              'no_layers': 3,\n",
    "                              'no_dense': 1,\n",
    "                              'no_nodes': 128,\n",
    "                              'batch_size': 10,\n",
    "                              'init_mode': 'glorot_uniform',\n",
    "                              'dropout': 0.01,\n",
    "                              },\n",
    "                      random_state=11,\n",
    "                      shuffle=True,\n",
    "                      )"
   ]
  },
  {
   "cell_type": "code",
   "execution_count": null,
   "metadata": {},
   "outputs": [],
   "source": [
    "lstm_reg.cv(n_splits=10, n_repeats=10)\n",
    "lstm_reg.fit(validation_split=0.2, verbose=0)\n",
    "lstm_reg.score(plot_fig=False);"
   ]
  },
  {
   "cell_type": "code",
   "execution_count": null,
   "metadata": {},
   "outputs": [],
   "source": [
    "# y = lstm_reg.val_data[1]\n",
    "# y_pred = lstm_reg.model.predict(lstm_reg.val_data[0], verbose=0)\n",
    "# pred_plot(y, y_pred, 'LSTM')"
   ]
  },
  {
   "cell_type": "markdown",
   "metadata": {},
   "source": [
    "## Linear Model"
   ]
  },
  {
   "cell_type": "code",
   "execution_count": null,
   "metadata": {},
   "outputs": [],
   "source": [
    "# lin_reg = Linear_Model(feature_df=main_df, target='Mean radius')"
   ]
  },
  {
   "cell_type": "code",
   "execution_count": null,
   "metadata": {
    "pycharm": {
     "is_executing": true
    }
   },
   "outputs": [],
   "source": [
    "# lin_reg.fit()\n",
    "# lin_reg.score(plot_fig=False);"
   ]
  },
  {
   "cell_type": "code",
   "execution_count": null,
   "metadata": {},
   "outputs": [],
   "source": [
    "# y = lin_reg.val_data[1].values\n",
    "# y_pred = lin_reg.model.predict(lin_reg.val_data[0].values)\n",
    "# pred_plot(y, y_pred, 'Linear')"
   ]
  },
  {
   "attachments": {},
   "cell_type": "markdown",
   "metadata": {},
   "source": [
    "## Figures for Journal"
   ]
  },
  {
   "cell_type": "code",
   "execution_count": null,
   "metadata": {},
   "outputs": [],
   "source": [
    "def pred_real_plot(y, y_pred, ax):\n",
    "    ax.scatter(y, y_pred, marker='+', alpha=0.8, s=50)\n",
    "\n",
    "    xmax = 0.68\n",
    "    xmin = 0.6\n",
    "\n",
    "    ax.set_xlim([xmin, xmax])\n",
    "    ax.set_ylim([xmin, xmax])\n",
    "\n",
    "    lims = [\n",
    "        np.min([ax.get_xlim(), ax.get_ylim()]),\n",
    "        np.max([ax.get_xlim(), ax.get_ylim()]),\n",
    "    ]\n",
    "\n",
    "    ax.set_axisbelow(True)\n",
    "    ax.grid()\n",
    "    ax.plot(lims, lims, 'k--', alpha=0.75, zorder=0, linewidth=1)\n",
    "    ax.set_aspect('equal')\n",
    "    return ax\n",
    "\n",
    "\n",
    "models = {'MLP': mlp_reg, \n",
    "          'MLP_WIN': mlp_win_reg, \n",
    "          'LSTM': lstm_reg\n",
    "          }\n",
    "\n",
    "y = {name: mod.val_data[1] for name, mod in models.items()}\n",
    "y_pred = {name: mod.model.predict(mod.val_data[0], verbose=0) for name, mod in models.items()}\n",
    "\n",
    "fig, ax = plt.subplots(1, len(models), figsize=(12, 5), sharey=True, dpi = 100)\n",
    "ax = ax.ravel()\n",
    "for i, m in enumerate(models):\n",
    "    ax[i] = pred_real_plot(y[str(m)], y_pred[str(m)], ax[i])\n",
    "    ax[i].set_title(str(m), fontsize=12)\n",
    "    ax[i].set_xlabel('Actual Y (mm)', fontsize=12)\n",
    "ax[0].set_ylabel('Predicted Y (mm)', fontsize=12)\n",
    "fig.tight_layout()\n",
    "\n",
    "y = {name: mod.train_data[1] for name, mod in models.items()}\n",
    "y_pred = {name: mod.model.predict(mod.train_data[0], verbose=0) for name, mod in models.items()}\n",
    "\n",
    "fig, ax = plt.subplots(1, len(models), figsize=(12, 5), sharey=True, dpi = 100)\n",
    "ax = ax.ravel()\n",
    "for i, m in enumerate(models):\n",
    "    ax[i] = pred_real_plot(y[str(m)], y_pred[str(m)], ax[i])\n",
    "    ax[i].set_title(str(m), fontsize=12)\n",
    "    ax[i].set_xlabel('Actual Y (mm)', fontsize=12)\n",
    "ax[0].set_ylabel('Predicted Y (mm)', fontsize=12)\n",
    "fig.tight_layout()"
   ]
  },
  {
   "attachments": {},
   "cell_type": "markdown",
   "metadata": {},
   "source": [
    "#### Show prediction of entire wear cycle"
   ]
  },
  {
   "cell_type": "code",
   "execution_count": null,
   "metadata": {},
   "outputs": [],
   "source": [
    "from collections import deque\n",
    "from sklearn.metrics import mean_absolute_error, mean_squared_error, r2_score\n",
    "\n",
    "def sequence_data(d: np.ndarray, mod):\n",
    "    seq_data = []\n",
    "    seq_len = mod.seq_len\n",
    "    prev_points = deque(maxlen=seq_len)\n",
    "\n",
    "    for i in d:\n",
    "        prev_points.append([n for n in i])\n",
    "        if len(prev_points) == seq_len:\n",
    "            seq_data.append([np.array(prev_points)])\n",
    "    return seq_data\n",
    "\n",
    "\n",
    "dfs = [exp5.features.drop([23, 24]), exp7.features, exp8.features, exp9.features]\n",
    "\n",
    "fig, ax = plt.subplots(1, len(dfs), figsize=(15, 5), dpi = 300)\n",
    "ax = ax.ravel()\n",
    "\n",
    "for i, df in enumerate(dfs):\n",
    "\n",
    "    df = df.drop(columns=['Runout', 'Form error', 'Peak radius', 'Radius diff']).drop([0, 1, 2, 3])\n",
    "    df.reset_index(drop=True, inplace=True)\n",
    "    df.head()\n",
    "\n",
    "    mods = {'MLP': mlp_reg,\n",
    "            'MLP_WIN': mlp_win_reg,\n",
    "            'LSTM': lstm_reg,\n",
    "            }\n",
    "\n",
    "    x = df.drop(columns=['Mean radius']).to_numpy()\n",
    "    y = df['Mean radius'].to_numpy()\n",
    "\n",
    "    x_mlp = mods['MLP'].scaler.transform(x)\n",
    "\n",
    "    x_mlp_win = sequence_data(mods['MLP_WIN'].scaler.transform(x), mods['MLP_WIN'])\n",
    "    x_mlp_win = np.asarray(x_mlp_win).reshape(len(x_mlp_win), mods['MLP_WIN']._no_features)\n",
    "\n",
    "    x_lstm = sequence_data(mods['LSTM'].scaler.transform(x), mods['LSTM'])\n",
    "    x_lstm = np.asarray(x_lstm).squeeze()\n",
    "\n",
    "    y_pred_mlp = mods['MLP'].model.predict(x_mlp, verbose=0)\n",
    "    y_pred_mlp_win = mods['MLP_WIN'].model.predict(x_mlp_win, verbose=0)\n",
    "    y_pred_lstm = mods['LSTM'].model.predict(x_lstm, verbose=0)\n",
    "\n",
    "    # print(f'Test {i + 1}')\n",
    "    # print('-' * 65)\n",
    "    # print('\\tMLP')\n",
    "    # mods['MLP'].score(X=x_mlp, y=y, plot_fig=False)\n",
    "    # print('-' * 65)\n",
    "    # print('\\tMLP_WIN')\n",
    "    # mods['MLP_WIN'].score(X=x_mlp_win, y=y[-len(x_mlp_win):], plot_fig=False)\n",
    "    # print('-' * 65)\n",
    "    # print('\\tLSTM')\n",
    "    # mods['LSTM'].score(X=x_lstm, y=y[-len(x_lstm):], plot_fig=False)\n",
    "    # print('\\n')\n",
    "\n",
    "    mlp_win_slen = mods['MLP_WIN'].seq_len\n",
    "    lstm_slen = mods['LSTM'].seq_len\n",
    "\n",
    "    ax[i].plot(y, label='Actual')\n",
    "    ax[i].plot(y_pred_mlp, label='MLP')\n",
    "    ax[i].plot(np.insert(y_pred_mlp_win, 0, [np.NaN] * (mlp_win_slen - 1)) , label='MLP_WIN')\n",
    "    ax[i].plot(np.insert(y_pred_lstm, 0, [np.NaN] * (lstm_slen - 1)), label='LSTM')\n",
    "    ax[i].legend(fontsize=8)\n",
    "    ax[i].set_xlabel('Cut No.')\n",
    "    ax[i].set_title(f'Test {i+1}')\n",
    "    ax[i].autoscale(enable=True, axis='x', tight=True)\n",
    "\n",
    "ax[0].set_ylabel('Mean radius (mm)')\n",
    "fig.tight_layout()\n",
    "\n",
    "# fig, ax = plt.subplots()\n",
    "# pred_real_plot(y[-len(y_pred_lstm):], y_pred_lstm, ax)"
   ]
  },
  {
   "attachments": {},
   "cell_type": "markdown",
   "metadata": {},
   "source": [
    "#### Train MLP models on all but one Test"
   ]
  },
  {
   "cell_type": "code",
   "execution_count": null,
   "metadata": {},
   "outputs": [],
   "source": [
    "# from collections import deque\n",
    "# from sklearn.metrics import mean_absolute_error, mean_squared_error, r2_score\n",
    "\n",
    "# def sequence_data(d: np.ndarray, mod):\n",
    "#     seq_data = []\n",
    "#     seq_len = mod.seq_len\n",
    "#     prev_points = deque(maxlen=seq_len)\n",
    "\n",
    "#     for i in d:\n",
    "#         prev_points.append([n for n in i])\n",
    "#         if len(prev_points) == seq_len:\n",
    "#             seq_data.append([np.array(prev_points)])\n",
    "#     return seq_data\n",
    "\n",
    "# mod = lstm_reg\n",
    "# for i, val_df in enumerate(dfs):\n",
    "#     tr_df = dfs[:i] + dfs[i + 1:]\n",
    "#     tr_df = pd.concat(tr_df)\n",
    "#     tr_df = tr_df.drop(columns=['Runout', 'Form error', 'Peak radius', 'Radius diff'])\n",
    "#     tr_df.reset_index(drop=True, inplace=True)\n",
    "\n",
    "#     mod.main_df = tr_df\n",
    "#     mod.pre_process(val_frac=0.1)\n",
    "#     mod.fit(verbose=0)\n",
    "#     mod.score(plot_fig=False)\n",
    "\n",
    "#     val_df = val_df.drop(columns=['Runout', 'Form error', 'Peak radius', 'Radius diff'])\n",
    "#     val_x = val_df.drop(columns=['Mean radius']).to_numpy()\n",
    "#     val_x = sequence_data(mod.scaler.transform(x), mod)\n",
    "#     val_x = np.asarray(val_x).squeeze()\n",
    "#     val_y = val_df['Mean radius'].to_numpy()\n",
    "    \n",
    "#     val_pred = mod.model.predict(val_x, verbose=0)\n",
    "#     fig, ax = plt.subplots()\n",
    "#     ax.plot(val_y, label='Actual')\n",
    "#     ax.plot(np.insert(val_pred, 0, [np.NaN] * (mod.seq_len - 1)), label='Predicted')\n",
    "#     ax.legend(fontsize=8)\n",
    "#     ax.set_xlabel('Cut No.')\n",
    "#     ax.set_ylabel('Mean radius (mm)')\n",
    "#     ax.set_title(f'Val data {i+1}')\n",
    "#     ax.autoscale(enable=True, axis='x', tight=True)\n"
   ]
  }
 ],
 "metadata": {
  "kernelspec": {
   "display_name": "Python 3 (ipykernel)",
   "language": "python",
   "name": "python3"
  },
  "language_info": {
   "codemirror_mode": {
    "name": "ipython",
    "version": 3
   },
   "file_extension": ".py",
   "mimetype": "text/x-python",
   "name": "python",
   "nbconvert_exporter": "python",
   "pygments_lexer": "ipython3",
   "version": "3.10.11"
  },
  "vscode": {
   "interpreter": {
    "hash": "a77c530f20afcac94425b35af8d25e3592d4e6fc3ab5e13da56c5d55af5be430"
   }
  }
 },
 "nbformat": 4,
 "nbformat_minor": 4
}
