{
 "cells": [
  {
   "cell_type": "code",
   "execution_count": 1,
   "metadata": {},
   "outputs": [],
   "source": [
    "import os\n",
    "os.environ['TF_CPP_MIN_LOG_LEVEL'] = '3'\n",
    "\n",
    "import tensorflow as tf\n",
    "import numpy as np\n",
    "import matplotlib.pyplot as plt\n",
    "import tqdm\n",
    "\n",
    "import resources"
   ]
  },
  {
   "cell_type": "code",
   "execution_count": 2,
   "metadata": {},
   "outputs": [],
   "source": [
    "exp = resources.load('Test 5')"
   ]
  },
  {
   "cell_type": "code",
   "execution_count": 3,
   "metadata": {},
   "outputs": [],
   "source": [
    "def _bytes_feature(value):\n",
    "    \"\"\"Returns a bytes_list from a string / byte.\"\"\"\n",
    "    if isinstance(value, type(tf.constant(0))): # if value ist tensor\n",
    "        value = value.numpy() # get value of tensor\n",
    "    return tf.train.Feature(bytes_list=tf.train.BytesList(value=[value]))\n",
    "\n",
    "def _float_feature(value):\n",
    "  \"\"\"Returns a floast_list from a float / double.\"\"\"\n",
    "  return tf.train.Feature(float_list=tf.train.FloatList(value=[value]))\n",
    "\n",
    "def _int64_feature(value):\n",
    "  \"\"\"Returns an int64_list from a bool / enum / int / uint.\"\"\"\n",
    "  return tf.train.Feature(int64_list=tf.train.Int64List(value=[value]))\n",
    "\n",
    "def serialize_array(array):\n",
    "  array = tf.io.serialize_tensor(array)\n",
    "  return array"
   ]
  },
  {
   "cell_type": "code",
   "execution_count": 4,
   "metadata": {},
   "outputs": [],
   "source": [
    "def parse_ae_data(ae, file_id):\n",
    "    data = {\n",
    "        'file_id': _int64_feature(file_id),\n",
    "        'fs': _int64_feature(2_000_000),\n",
    "        'ae': _bytes_feature(serialize_array(ae)),\n",
    "    }\n",
    "\n",
    "    out = tf.train.Example(features=tf.train.Features(feature=data))\n",
    "    return out"
   ]
  },
  {
   "cell_type": "code",
   "execution_count": 5,
   "metadata": {},
   "outputs": [
    {
     "name": "stderr",
     "output_type": "stream",
     "text": [
      "100%|██████████| 20/20 [04:21<00:00, 13.09s/it]\n"
     ]
    }
   ],
   "source": [
    "opt = tf.io.TFRecordOptions(compression_type='GZIP')\n",
    "with tf.io.TFRecordWriter('test_5_ae_comp.tfrecord', opt) as f:\n",
    "    for file_id in tqdm.tqdm(range(20)):\n",
    "        ae = exp.ae.readAE(file_id)\n",
    "        out = parse_ae_data(ae, file_id)\n",
    "        f.write(out.SerializeToString())"
   ]
  },
  {
   "cell_type": "code",
   "execution_count": 6,
   "metadata": {},
   "outputs": [
    {
     "name": "stderr",
     "output_type": "stream",
     "text": [
      "100%|██████████| 20/20 [01:00<00:00,  3.02s/it]\n"
     ]
    }
   ],
   "source": [
    "with tf.io.TFRecordWriter('test_5_ae.tfrecord') as f:\n",
    "    for file_id in tqdm.tqdm(range(20)):\n",
    "        ae = exp.ae.readAE(file_id)\n",
    "        out = parse_ae_data(ae, file_id)\n",
    "        f.write(out.SerializeToString())"
   ]
  },
  {
   "cell_type": "code",
   "execution_count": 2,
   "metadata": {},
   "outputs": [],
   "source": [
    "def parse_tfr_ae(element):\n",
    "    data = {\n",
    "        'file_id': tf.io.FixedLenFeature([], tf.int64),\n",
    "        'fs': tf.io.FixedLenFeature([], tf.int64),\n",
    "        'ae': tf.io.FixedLenFeature([], tf.string),\n",
    "    }\n",
    "\n",
    "    sample = tf.io.parse_single_example(element, data)\n",
    "    return sample"
   ]
  },
  {
   "cell_type": "code",
   "execution_count": 3,
   "metadata": {},
   "outputs": [
    {
     "data": {
      "text/plain": [
       "<_MapDataset element_spec={'ae': TensorSpec(shape=(), dtype=tf.string, name=None), 'file_id': TensorSpec(shape=(), dtype=tf.int64, name=None), 'fs': TensorSpec(shape=(), dtype=tf.int64, name=None)}>"
      ]
     },
     "execution_count": 3,
     "metadata": {},
     "output_type": "execute_result"
    }
   ],
   "source": [
    "dataset = tf.data.TFRecordDataset('test_5_ae.tfrecord')\n",
    "dataset = dataset.map(parse_tfr_ae)\n",
    "dataset"
   ]
  },
  {
   "cell_type": "code",
   "execution_count": 4,
   "metadata": {},
   "outputs": [
    {
     "name": "stdout",
     "output_type": "stream",
     "text": [
      "File 0: (42326800,) \n",
      "File 1: (41863488,) \n",
      "File 2: (41912320,) \n",
      "File 3: (42094416,) \n",
      "File 4: (41818496,) \n",
      "File 5: (42322272,) \n",
      "File 6: (42407440,) \n",
      "File 7: (42369840,) \n",
      "File 8: (42026576,) \n",
      "File 9: (41685136,) \n",
      "File 10: (42336048,) \n",
      "File 11: (42352672,) \n",
      "File 12: (41765056,) \n",
      "File 13: (41701408,) \n",
      "File 14: (41503568,) \n",
      "File 15: (41914976,) \n",
      "File 16: (42218192,) \n",
      "File 17: (42260160,) \n",
      "File 18: (41559216,) \n",
      "File 19: (41885680,) \n"
     ]
    }
   ],
   "source": [
    "for sample in dataset:\n",
    "    ae_sig = sample['ae']\n",
    "    ae_sig = tf.io.parse_tensor(ae_sig, out_type=tf.double)\n",
    "    print(f'File {sample[\"file_id\"].numpy()}: {ae_sig.numpy().shape} ')"
   ]
  },
  {
   "cell_type": "code",
   "execution_count": 6,
   "metadata": {},
   "outputs": [],
   "source": [
    "for sample in dataset:\n",
    "    sample['file_id'].numpy()"
   ]
  },
  {
   "cell_type": "code",
   "execution_count": null,
   "metadata": {},
   "outputs": [],
   "source": []
  }
 ],
 "metadata": {
  "kernelspec": {
   "display_name": "tf",
   "language": "python",
   "name": "python3"
  },
  "language_info": {
   "codemirror_mode": {
    "name": "ipython",
    "version": 3
   },
   "file_extension": ".py",
   "mimetype": "text/x-python",
   "name": "python",
   "nbconvert_exporter": "python",
   "pygments_lexer": "ipython3",
   "version": "3.10.11"
  }
 },
 "nbformat": 4,
 "nbformat_minor": 2
}
