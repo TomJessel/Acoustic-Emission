{
 "cells": [
  {
   "cell_type": "code",
   "execution_count": 1,
   "metadata": {},
   "outputs": [],
   "source": [
    "from ml_mlp import MLP_Model\n",
    "from ml_mlp import Linear_Model\n",
    "from ml_mlp import MLP_Win_Model\n",
    "import resources\n",
    "import pandas as pd\n",
    "import matplotlib.pyplot as plt\n",
    "import numpy as np\n",
    "from scikeras.wrappers import KerasRegressor\n",
    "import tensorflow as tf\n",
    "tf.get_logger().setLevel('ERROR')"
   ]
  },
  {
   "cell_type": "code",
   "execution_count": 2,
   "metadata": {},
   "outputs": [],
   "source": [
    "%matplotlib inline"
   ]
  },
  {
   "cell_type": "markdown",
   "metadata": {},
   "source": [
    "# Pre-process data \n",
    "Load in feature datasets, remove wear in phase and combine."
   ]
  },
  {
   "cell_type": "code",
   "execution_count": 3,
   "metadata": {
    "scrolled": true
   },
   "outputs": [
    {
     "ename": "FileNotFoundError",
     "evalue": "[Errno 2] No such file or directory: '..\\\\..\\\\Testing\\\\22_08_03_grit1000\\\\Test 5.pickle'",
     "output_type": "error",
     "traceback": [
      "\u001b[0;31m---------------------------------------------------------------------------\u001b[0m",
      "\u001b[0;31mFileNotFoundError\u001b[0m                         Traceback (most recent call last)",
      "Cell \u001b[0;32mIn[3], line 1\u001b[0m\n\u001b[0;32m----> 1\u001b[0m exp5 \u001b[38;5;241m=\u001b[39m \u001b[43mresources\u001b[49m\u001b[38;5;241;43m.\u001b[39;49m\u001b[43mload\u001b[49m\u001b[43m(\u001b[49m\u001b[38;5;124;43m'\u001b[39;49m\u001b[38;5;124;43mTest 5\u001b[39;49m\u001b[38;5;124;43m'\u001b[39;49m\u001b[43m)\u001b[49m\n\u001b[1;32m      2\u001b[0m exp7 \u001b[38;5;241m=\u001b[39m resources\u001b[38;5;241m.\u001b[39mload(\u001b[38;5;124m'\u001b[39m\u001b[38;5;124mTest 7\u001b[39m\u001b[38;5;124m'\u001b[39m)\n\u001b[1;32m      3\u001b[0m exp8 \u001b[38;5;241m=\u001b[39m resources\u001b[38;5;241m.\u001b[39mload(\u001b[38;5;124m'\u001b[39m\u001b[38;5;124mTest 8\u001b[39m\u001b[38;5;124m'\u001b[39m)\n",
      "File \u001b[0;32m~/python/Acoustic-Emission/resources/experiment.py:357\u001b[0m, in \u001b[0;36mload\u001b[0;34m(file, process)\u001b[0m\n\u001b[1;32m    355\u001b[0m \u001b[38;5;28;01mtry\u001b[39;00m:\n\u001b[1;32m    356\u001b[0m     file_path \u001b[38;5;241m=\u001b[39m f_locs[file\u001b[38;5;241m.\u001b[39mlower()\u001b[38;5;241m.\u001b[39mreplace(\u001b[38;5;124m'\u001b[39m\u001b[38;5;124m \u001b[39m\u001b[38;5;124m'\u001b[39m, \u001b[38;5;124m'\u001b[39m\u001b[38;5;124m'\u001b[39m)]\n\u001b[0;32m--> 357\u001b[0m     \u001b[38;5;28;01mwith\u001b[39;00m \u001b[38;5;28;43mopen\u001b[39;49m\u001b[43m(\u001b[49m\u001b[43mfile_path\u001b[49m\u001b[43m,\u001b[49m\u001b[43m \u001b[49m\u001b[38;5;124;43m'\u001b[39;49m\u001b[38;5;124;43mrb\u001b[39;49m\u001b[38;5;124;43m'\u001b[39;49m\u001b[43m)\u001b[49m \u001b[38;5;28;01mas\u001b[39;00m f:\n\u001b[1;32m    358\u001b[0m         data \u001b[38;5;241m=\u001b[39m pickle\u001b[38;5;241m.\u001b[39mload(f)\n\u001b[1;32m    359\u001b[0m \u001b[38;5;28;01mexcept\u001b[39;00m \u001b[38;5;167;01mKeyError\u001b[39;00m:\n\u001b[1;32m    360\u001b[0m     \u001b[38;5;66;03m# print(f'File location of {file} not saved in load function.')\u001b[39;00m\n\u001b[1;32m    361\u001b[0m     \u001b[38;5;66;03m# print(f'Known file locations are : {f_locs}')\u001b[39;00m\n",
      "\u001b[0;31mFileNotFoundError\u001b[0m: [Errno 2] No such file or directory: '..\\\\..\\\\Testing\\\\22_08_03_grit1000\\\\Test 5.pickle'"
     ]
    }
   ],
   "source": [
    "exp5 = resources.load('Test 5')\n",
    "exp7 = resources.load('Test 7')\n",
    "exp8 = resources.load('Test 8')\n",
    "exp9 = resources.load('Test 9')"
   ]
  },
  {
   "cell_type": "code",
   "execution_count": null,
   "metadata": {},
   "outputs": [],
   "source": [
    "dfs = [exp5.features.drop([23, 24]), exp7.features, exp8.features, exp9.features]\n",
    "main_df = pd.concat(dfs)\n",
    "main_df = main_df.drop(columns=['Runout', 'Form error', 'Peak radius', 'Radius diff'])#.drop([0, 1, 2, 3])\n",
    "main_df.reset_index(drop=True, inplace=True)"
   ]
  },
  {
   "cell_type": "code",
   "execution_count": null,
   "metadata": {
    "tags": []
   },
   "outputs": [],
   "source": [
    "print(f'Main df : {main_df.shape[0]} rows x {main_df.shape[1]} cols')\n",
    "main_df.head()"
   ]
  },
  {
   "cell_type": "code",
   "execution_count": null,
   "metadata": {},
   "outputs": [],
   "source": [
    "main_df.plot(y='Mean radius');"
   ]
  },
  {
   "cell_type": "markdown",
   "metadata": {},
   "source": [
    "# Create Models\n",
    "\n",
    "- MLP\n",
    "- Linear\n",
    "- MLP with window"
   ]
  },
  {
   "cell_type": "code",
   "execution_count": null,
   "metadata": {},
   "outputs": [],
   "source": [
    "mlp_reg = MLP_Model(feature_df=main_df,\n",
    "                    target='Mean radius',\n",
    "                    tb=False,\n",
    "                    tb_logdir='',\n",
    "                    params={'loss': 'mse',\n",
    "                            'no_layers': 3,\n",
    "                            'no_nodes': 64,\n",
    "                            'epochs': 200,\n",
    "                                }\n",
    "                   )"
   ]
  },
  {
   "cell_type": "code",
   "execution_count": null,
   "metadata": {},
   "outputs": [],
   "source": [
    "lin_reg = Linear_Model(feature_df=main_df, target='Mean radius')"
   ]
  },
  {
   "cell_type": "code",
   "execution_count": null,
   "metadata": {},
   "outputs": [],
   "source": [
    "mlp_win_reg = MLP_Win_Model(feature_df=main_df,\n",
    "                            target='Mean radius',\n",
    "                            tb=False,\n",
    "                            tb_logdir='',\n",
    "                            params={'seq_len': 5,\n",
    "                                    'loss': 'mse',\n",
    "                                    'epochs': 1000,\n",
    "                                    'no_nodes': 128,\n",
    "                                    'no_layers': 3,\n",
    "                                    },\n",
    "                            )"
   ]
  },
  {
   "cell_type": "markdown",
   "metadata": {
    "tags": []
   },
   "source": [
    "# Score models\n",
    "## MLP:"
   ]
  },
  {
   "cell_type": "code",
   "execution_count": null,
   "metadata": {
    "pycharm": {
     "is_executing": true
    },
    "scrolled": false,
    "tags": []
   },
   "outputs": [],
   "source": [
    "mlp_reg.cv(n_splits=10, n_repeats=10, random_state=15)\n",
    "mlp_reg.fit(validation_split=0.1, verbose=0)\n",
    "mlp_reg.score(plot_fig=True);"
   ]
  },
  {
   "cell_type": "markdown",
   "metadata": {},
   "source": [
    "## Linear:"
   ]
  },
  {
   "cell_type": "code",
   "execution_count": null,
   "metadata": {
    "pycharm": {
     "is_executing": true
    }
   },
   "outputs": [],
   "source": [
    "lin_reg.fit()\n",
    "lin_reg.score(plot_fig=False);"
   ]
  },
  {
   "cell_type": "markdown",
   "metadata": {},
   "source": [
    "## MLP with window:"
   ]
  },
  {
   "cell_type": "code",
   "execution_count": null,
   "metadata": {
    "pycharm": {
     "is_executing": true
    },
    "scrolled": false
   },
   "outputs": [],
   "source": [
    "mlp_win_reg.cv(n_splits=10, n_repeats=10)\n",
    "mlp_win_reg.fit(validation_split=0.2, verbose=0)\n",
    "mlp_win_reg.score(plot_fig=True);"
   ]
  },
  {
   "cell_type": "markdown",
   "metadata": {},
   "source": [
    "# Visualise predictions\n",
    "## MLP:"
   ]
  },
  {
   "cell_type": "code",
   "execution_count": null,
   "metadata": {
    "pycharm": {
     "is_executing": true
    },
    "tags": []
   },
   "outputs": [],
   "source": [
    "def pred_plot(y: np.ndarray, y_pred: np.ndarray, title:str = ''):\n",
    "    fig, ax = plt.subplots(1, 2)\n",
    "    ax[0].scatter(y, y_pred)\n",
    "\n",
    "    # limits of max radius\n",
    "    xmax = main_df['Mean radius'].values.max()\n",
    "    xmin = main_df['Mean radius'].values.min()\n",
    "\n",
    "    ax[0].set_xlim([xmin, xmax])\n",
    "    ax[0].set_ylim([xmin, xmax])\n",
    "\n",
    "    lims = [\n",
    "        np.min([ax[0].get_xlim(), ax[0].get_ylim()]),\n",
    "        np.max([ax[0].get_xlim(), ax[0].get_ylim()]),\n",
    "    ]\n",
    "\n",
    "    ax[0].plot(lims, lims, 'k-', alpha=0.75, zorder=0)\n",
    "    ax[0].set_aspect('equal')\n",
    "    ax[0].set_xlabel('Actual Y / mm')\n",
    "    ax[0].set_ylabel('Predicted Y /mm')\n",
    "    ax[0].set_title(f'{title} - Predictions');\n",
    "    \n",
    "    diff = (y - y_pred)*1000\n",
    "\n",
    "    ax[1].hist(diff, bins=30)\n",
    "    ax[1].set_xlabel('Prediction Error / um')\n",
    "    ax[1].set_ylabel('No Occurances')\n",
    "    ax[1].set_title(f'{title} - Histogram');\n",
    "\n",
    "    fig.tight_layout()\n"
   ]
  },
  {
   "cell_type": "code",
   "execution_count": null,
   "metadata": {},
   "outputs": [],
   "source": [
    "y = lin_reg.val_data[1].values\n",
    "y_pred = lin_reg.model.predict(lin_reg.val_data[0].values)\n",
    "pred_plot(y, y_pred, 'Linear')"
   ]
  },
  {
   "cell_type": "code",
   "execution_count": null,
   "metadata": {
    "pycharm": {
     "is_executing": true
    }
   },
   "outputs": [],
   "source": [
    "y = mlp_reg.val_data[1].values\n",
    "y_pred = mlp_reg.model.predict(mlp_reg.val_data[0].values, verbose=0)\n",
    "pred_plot(y, y_pred, 'MLP')"
   ]
  },
  {
   "cell_type": "code",
   "execution_count": null,
   "metadata": {},
   "outputs": [],
   "source": [
    "y = mlp_win_reg.val_data[1]\n",
    "y_pred = mlp_win_reg.model.predict(mlp_win_reg.val_data[0], verbose=0)\n",
    "pred_plot(y, y_pred, 'MLP_WIN')"
   ]
  },
  {
   "cell_type": "code",
   "execution_count": null,
   "metadata": {},
   "outputs": [],
   "source": []
  }
 ],
 "metadata": {
  "kernelspec": {
   "display_name": "Python 3 (ipykernel)",
   "language": "python",
   "name": "python3"
  },
  "language_info": {
   "codemirror_mode": {
    "name": "ipython",
    "version": 3
   },
   "file_extension": ".py",
   "mimetype": "text/x-python",
   "name": "python",
   "nbconvert_exporter": "python",
   "pygments_lexer": "ipython3",
   "version": "3.10.8"
  }
 },
 "nbformat": 4,
 "nbformat_minor": 4
}
