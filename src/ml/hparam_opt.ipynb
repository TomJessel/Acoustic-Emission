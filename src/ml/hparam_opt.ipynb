{
 "cells": [
  {
   "cell_type": "markdown",
   "id": "fdda200f-2cd6-4d64-9e80-b082ac3ac85d",
   "metadata": {},
   "source": [
    "# Optimise Hyperparamters"
   ]
  },
  {
   "cell_type": "code",
   "execution_count": 1,
   "id": "70392f86-7f79-4516-9506-6d05c41aa8da",
   "metadata": {},
   "outputs": [],
   "source": [
    "from ml_mlp import MLP_Model\n",
    "from ml_mlp import Linear_Model\n",
    "from ml_mlp import MLP_Win_Model\n",
    "from ml_mlp import LSTM_Model\n",
    "import src\n",
    "import pandas as pd\n",
    "import matplotlib.pyplot as plt\n",
    "import numpy as np\n",
    "from scikeras.wrappers import KerasRegressor\n",
    "import tensorflow as tf\n",
    "tf.get_logger().setLevel('ERROR')\n",
    "import multiprocessing\n",
    "multiprocessing.set_start_method(\"spawn\")"
   ]
  },
  {
   "cell_type": "code",
   "execution_count": 2,
   "id": "b3698890-b5ae-4e33-972d-9c193e7e3f62",
   "metadata": {},
   "outputs": [],
   "source": [
    "%matplotlib inline"
   ]
  },
  {
   "cell_type": "code",
   "execution_count": 3,
   "id": "b71e2299-9da7-463e-bc97-9ddf06f2b13d",
   "metadata": {
    "scrolled": true
   },
   "outputs": [],
   "source": [
    "exp5 = src.load('Test 5')\n",
    "exp7 = src.load('Test 7')\n",
    "exp8 = src.load('Test 8')\n",
    "exp9 = src.load('Test 9')"
   ]
  },
  {
   "cell_type": "code",
   "execution_count": 4,
   "id": "8bcee6c9-657e-49b4-9d20-e807aac59d8e",
   "metadata": {
    "tags": []
   },
   "outputs": [],
   "source": [
    "dfs = [exp5.features.drop([23, 24]), exp7.features, exp8.features, exp9.features]\n",
    "main_df = pd.concat(dfs)\n",
    "main_df = main_df.drop(columns=['Runout', 'Form error', 'Peak radius', 'Radius diff'])#.drop([0, 1, 2, 3])\n",
    "main_df.reset_index(drop=True, inplace=True)"
   ]
  },
  {
   "cell_type": "markdown",
   "id": "15f1bc4f-b7ac-4410-9cd6-3749fb9b21ad",
   "metadata": {},
   "source": [
    "## Create Models"
   ]
  },
  {
   "cell_type": "code",
   "execution_count": 5,
   "id": "ed1f37a7-53d9-4b89-95bc-7d9cdc0d2d57",
   "metadata": {},
   "outputs": [],
   "source": [
    "EPOCHS = [500, 1000, 1500]\n",
    "LOSS = ['mse']\n",
    "NO_NODES = [64, 128]\n",
    "DROPOUT = [0.01, 0.1, 0.2, 0.5]\n",
    "BATCH_SIZE = [15]\n",
    "SEQ_LEN = [5, 10, 15]\n",
    "NO_LAYERS = [1, 2, 3, 4]\n",
    "INIT_MODE = ['glorot_normal', 'glorot_uniform', 'he_normal', 'he_uniform', 'random_normal']\n"
   ]
  },
  {
   "cell_type": "code",
   "execution_count": null,
   "id": "47b4f982-43bb-49fb-85ee-b4b1fadfb0be",
   "metadata": {
    "pycharm": {
     "is_executing": true
    },
    "scrolled": true,
    "tags": []
   },
   "outputs": [],
   "source": [
    "for no_layers in NO_LAYERS:\n",
    "    for init_mode in INIT_MODE:\n",
    "        hparams = {\n",
    "            'epochs': 2000,\n",
    "            'loss': 'mse',\n",
    "            'no_nodes': 128,\n",
    "            'dropout': 0.01,\n",
    "            'batch_size': 15,\n",
    "            'no_layers': no_layers,\n",
    "            'init_mode': init_mode,\n",
    "        }    \n",
    "\n",
    "        mlp_reg = MLP_Model(feature_df=main_df,\n",
    "                            target='Mean radius',\n",
    "                            tb=True,\n",
    "                            tb_logdir='hparam_test_4',\n",
    "                            params=hparams\n",
    "                           )\n",
    "\n",
    "        mlp_reg.cv(n_splits=10, n_repeats=10)\n",
    "        mlp_reg.fit(validation_split=0.1, verbose=0)\n",
    "        mlp_reg.score(plot_fig=False);"
   ]
  },
  {
   "cell_type": "code",
   "execution_count": null,
   "id": "b97f528e-1050-4c9a-a90e-647522391226",
   "metadata": {
    "jupyter": {
     "source_hidden": true
    },
    "tags": []
   },
   "outputs": [],
   "source": [
    "for epoch in EPOCHS:\n",
    "    for loss in LOSS:\n",
    "        for no_nodes in NO_NODES:\n",
    "            for seq_len in SEQ_LEN:\n",
    "                hparams = {\n",
    "                    'epochs': epoch,\n",
    "                    'loss': loss,\n",
    "                    'no_nodes': no_nodes,\n",
    "                    'seq_len': seq_len,\n",
    "                } \n",
    "                mlp_win_reg = MLP_Win_Model(feature_df=main_df,\n",
    "                                            target='Mean radius',\n",
    "                                            tb=True,\n",
    "                                            tb_logdir='hparam_test',\n",
    "                                            params=hparams\n",
    "                                            )\n",
    "                mlp_win_reg.cv(n_splits=10, n_repeats=10)\n",
    "                mlp_win_reg.fit(validation_split=0.1, verbose=0)\n",
    "                mlp_win_reg.score(plot_fig=False);"
   ]
  },
  {
   "cell_type": "code",
   "execution_count": null,
   "id": "89c8eef4-dfa9-4269-a538-0f7b39de2ff9",
   "metadata": {
    "scrolled": true,
    "tags": []
   },
   "outputs": [
    {
     "name": "stdout",
     "output_type": "stream",
     "text": [
      "-----------------------------------------------------------------\n",
      "LSTM-WLEN-5-E-500-B-10-L-[64 64 64]-D-0.1-20230114-113538\n"
     ]
    },
    {
     "data": {
      "application/vnd.jupyter.widget-view+json": {
       "model_id": "c6eb68bc42394ec099ce1824546bec84",
       "version_major": 2,
       "version_minor": 0
      },
      "text/plain": [
       "CV Model:   0%|          | 0/100 [00:00<?, ?it/s]"
      ]
     },
     "metadata": {},
     "output_type": "display_data"
    },
    {
     "name": "stdout",
     "output_type": "stream",
     "text": [
      "-----------------------------------------------------------------\n",
      "CV Scores:\n",
      "-----------------------------------------------------------------\n",
      "MAE: 1.787 (±0.483)µm\n",
      "MSE: 11.040 (±10.951) µm²\n",
      "R^2: 0.902 (± 0.081)\n",
      "-----------------------------------------------------------------\n",
      "LSTM-WLEN-5-E-500-B-10-L-[64 64 64]-D-0.1-20230114-113538\n"
     ]
    },
    {
     "data": {
      "application/vnd.jupyter.widget-view+json": {
       "model_id": "64cc2ca7304b4d1d8512f0f3f2720734",
       "version_major": 2,
       "version_minor": 0
      },
      "text/plain": [
       "Training:   0%|                    0/500 ETA: ?s,  ?epochs/s"
      ]
     },
     "metadata": {},
     "output_type": "display_data"
    },
    {
     "name": "stdout",
     "output_type": "stream",
     "text": [
      "-----------------------------------------------------------------\n",
      "Validation Scores:\n",
      "-----------------------------------------------------------------\n",
      "MAE = 1.920 um\n",
      "MSE = 20.390 um^2\n",
      "R^2 = 0.804\n",
      "-----------------------------------------------------------------\n",
      "LSTM-WLEN-10-E-500-B-10-L-[64 64 64]-D-0.1-20230114-122726\n"
     ]
    },
    {
     "data": {
      "application/vnd.jupyter.widget-view+json": {
       "model_id": "a0ef4dec4e944edd8dd5a9432b1a8710",
       "version_major": 2,
       "version_minor": 0
      },
      "text/plain": [
       "CV Model:   0%|          | 0/100 [00:00<?, ?it/s]"
      ]
     },
     "metadata": {},
     "output_type": "display_data"
    },
    {
     "name": "stdout",
     "output_type": "stream",
     "text": [
      "-----------------------------------------------------------------\n",
      "CV Scores:\n",
      "-----------------------------------------------------------------\n",
      "MAE: 1.412 (±0.388)µm\n",
      "MSE: 7.216 (±8.004) µm²\n",
      "R^2: 0.931 (± 0.076)\n",
      "-----------------------------------------------------------------\n",
      "LSTM-WLEN-10-E-500-B-10-L-[64 64 64]-D-0.1-20230114-122726\n"
     ]
    },
    {
     "data": {
      "application/vnd.jupyter.widget-view+json": {
       "model_id": "bef0b36570db4c889b7becbafbbe715b",
       "version_major": 2,
       "version_minor": 0
      },
      "text/plain": [
       "Training:   0%|                    0/500 ETA: ?s,  ?epochs/s"
      ]
     },
     "metadata": {},
     "output_type": "display_data"
    },
    {
     "name": "stdout",
     "output_type": "stream",
     "text": [
      "-----------------------------------------------------------------\n",
      "Validation Scores:\n",
      "-----------------------------------------------------------------\n",
      "MAE = 2.319 um\n",
      "MSE = 7.900 um^2\n",
      "R^2 = 0.924\n",
      "-----------------------------------------------------------------\n",
      "LSTM-WLEN-15-E-500-B-10-L-[64 64 64]-D-0.1-20230114-133926\n"
     ]
    },
    {
     "data": {
      "application/vnd.jupyter.widget-view+json": {
       "model_id": "caf562457a774e0da38f1be2e4c925a8",
       "version_major": 2,
       "version_minor": 0
      },
      "text/plain": [
       "CV Model:   0%|          | 0/100 [00:00<?, ?it/s]"
      ]
     },
     "metadata": {},
     "output_type": "display_data"
    },
    {
     "name": "stdout",
     "output_type": "stream",
     "text": [
      "-----------------------------------------------------------------\n",
      "CV Scores:\n",
      "-----------------------------------------------------------------\n",
      "MAE: 1.319 (±0.372)µm\n",
      "MSE: 4.745 (±3.652) µm²\n",
      "R^2: 0.955 (± 0.037)\n",
      "-----------------------------------------------------------------\n",
      "LSTM-WLEN-15-E-500-B-10-L-[64 64 64]-D-0.1-20230114-133926\n"
     ]
    },
    {
     "data": {
      "application/vnd.jupyter.widget-view+json": {
       "model_id": "483fd5afedfd4d17a4bf85c4722e623d",
       "version_major": 2,
       "version_minor": 0
      },
      "text/plain": [
       "Training:   0%|                    0/500 ETA: ?s,  ?epochs/s"
      ]
     },
     "metadata": {},
     "output_type": "display_data"
    },
    {
     "name": "stdout",
     "output_type": "stream",
     "text": [
      "-----------------------------------------------------------------\n",
      "Validation Scores:\n",
      "-----------------------------------------------------------------\n",
      "MAE = 1.042 um\n",
      "MSE = 1.891 um^2\n",
      "R^2 = 0.981\n",
      "-----------------------------------------------------------------\n",
      "LSTM-WLEN-5-E-500-B-10-L-[128 128 128]-D-0.1-20230114-145652\n"
     ]
    },
    {
     "data": {
      "application/vnd.jupyter.widget-view+json": {
       "model_id": "909cd1832cee4005bed9bea502a793f8",
       "version_major": 2,
       "version_minor": 0
      },
      "text/plain": [
       "CV Model:   0%|          | 0/100 [00:00<?, ?it/s]"
      ]
     },
     "metadata": {},
     "output_type": "display_data"
    },
    {
     "name": "stdout",
     "output_type": "stream",
     "text": [
      "-----------------------------------------------------------------\n",
      "CV Scores:\n",
      "-----------------------------------------------------------------\n",
      "MAE: 1.811 (±0.583)µm\n",
      "MSE: 20.508 (±35.739) µm²\n",
      "R^2: 0.811 (± 0.374)\n",
      "-----------------------------------------------------------------\n",
      "LSTM-WLEN-5-E-500-B-10-L-[128 128 128]-D-0.1-20230114-145652\n"
     ]
    },
    {
     "data": {
      "application/vnd.jupyter.widget-view+json": {
       "model_id": "6633a513caaf4a81a48476ff97b581b7",
       "version_major": 2,
       "version_minor": 0
      },
      "text/plain": [
       "Training:   0%|                    0/500 ETA: ?s,  ?epochs/s"
      ]
     },
     "metadata": {},
     "output_type": "display_data"
    },
    {
     "name": "stdout",
     "output_type": "stream",
     "text": [
      "-----------------------------------------------------------------\n",
      "Validation Scores:\n",
      "-----------------------------------------------------------------\n",
      "MAE = 1.843 um\n",
      "MSE = 14.392 um^2\n",
      "R^2 = 0.880\n",
      "-----------------------------------------------------------------\n",
      "LSTM-WLEN-10-E-500-B-10-L-[128 128 128]-D-0.1-20230114-160457\n"
     ]
    },
    {
     "data": {
      "application/vnd.jupyter.widget-view+json": {
       "model_id": "6c938ac2dc17417db37bae390f95fa2a",
       "version_major": 2,
       "version_minor": 0
      },
      "text/plain": [
       "CV Model:   0%|          | 0/100 [00:00<?, ?it/s]"
      ]
     },
     "metadata": {},
     "output_type": "display_data"
    },
    {
     "name": "stdout",
     "output_type": "stream",
     "text": [
      "-----------------------------------------------------------------\n",
      "CV Scores:\n",
      "-----------------------------------------------------------------\n",
      "MAE: 1.476 (±0.473)µm\n",
      "MSE: 6.898 (±7.456) µm²\n",
      "R^2: 0.934 (± 0.066)\n",
      "-----------------------------------------------------------------\n",
      "LSTM-WLEN-10-E-500-B-10-L-[128 128 128]-D-0.1-20230114-160457\n"
     ]
    },
    {
     "data": {
      "application/vnd.jupyter.widget-view+json": {
       "model_id": "da02629320ed4f21946ddffbf75d5c3b",
       "version_major": 2,
       "version_minor": 0
      },
      "text/plain": [
       "Training:   0%|                    0/500 ETA: ?s,  ?epochs/s"
      ]
     },
     "metadata": {},
     "output_type": "display_data"
    },
    {
     "name": "stdout",
     "output_type": "stream",
     "text": [
      "-----------------------------------------------------------------\n",
      "Validation Scores:\n",
      "-----------------------------------------------------------------\n",
      "MAE = 1.329 um\n",
      "MSE = 3.860 um^2\n",
      "R^2 = 0.972\n",
      "-----------------------------------------------------------------\n",
      "LSTM-WLEN-15-E-500-B-10-L-[128 128 128]-D-0.1-20230114-173826\n"
     ]
    },
    {
     "data": {
      "application/vnd.jupyter.widget-view+json": {
       "model_id": "9a3b338f1bd34982ad49da39440de9b3",
       "version_major": 2,
       "version_minor": 0
      },
      "text/plain": [
       "CV Model:   0%|          | 0/100 [00:00<?, ?it/s]"
      ]
     },
     "metadata": {},
     "output_type": "display_data"
    }
   ],
   "source": [
    "for epoch in EPOCHS:\n",
    "    for loss in LOSS:\n",
    "        for no_nodes in NO_NODES:\n",
    "            for seq_len in SEQ_LEN:\n",
    "                hparams = {\n",
    "                    'epochs': epoch,\n",
    "                    'loss': loss,\n",
    "                    'no_nodes': no_nodes,\n",
    "                    'seq_len': seq_len,\n",
    "                } \n",
    "                lstm_reg = LSTM_Model(feature_df=main_df,\n",
    "                                      target='Mean radius',\n",
    "                                      tb=True,\n",
    "                                      tb_logdir='hparam_test_3',\n",
    "                                      params=hparams\n",
    "                                      )\n",
    "                lstm_reg.cv(n_splits=10, n_repeats=10)\n",
    "                lstm_reg.fit(validation_split=0.1, verbose=0)\n",
    "                lstm_reg.score(plot_fig=False);\n",
    "                del lstm_reg"
   ]
  },
  {
   "cell_type": "code",
   "execution_count": 7,
   "id": "721ff3e3-5b09-48a7-97bb-cd1cb1de0010",
   "metadata": {},
   "outputs": [
    {
     "name": "stdout",
     "output_type": "stream",
     "text": [
      "-----------------------------------------------------------------\n",
      "LSTM-WLEN-10-E-500-B-10-L-[128 128 128]-D-0.1-20230115-125124\n"
     ]
    },
    {
     "data": {
      "application/vnd.jupyter.widget-view+json": {
       "model_id": "6b3f5011a20c481f8ee8fd0beae81356",
       "version_major": 2,
       "version_minor": 0
      },
      "text/plain": [
       "CV Model:   0%|          | 0/100 [00:00<?, ?it/s]"
      ]
     },
     "metadata": {},
     "output_type": "display_data"
    },
    {
     "name": "stdout",
     "output_type": "stream",
     "text": [
      "-----------------------------------------------------------------\n",
      "CV Scores:\n",
      "-----------------------------------------------------------------\n",
      "MAE: 1.450 (±0.396)µm\n",
      "MSE: 7.951 (±7.377) µm²\n",
      "R^2: 0.927 (± 0.066)\n",
      "-----------------------------------------------------------------\n",
      "LSTM-WLEN-10-E-500-B-10-L-[128 128 128]-D-0.1-20230115-125124\n"
     ]
    },
    {
     "data": {
      "application/vnd.jupyter.widget-view+json": {
       "model_id": "329791a9587f4432be63dc54f64a7fbf",
       "version_major": 2,
       "version_minor": 0
      },
      "text/plain": [
       "Training:   0%|                    0/500 ETA: ?s,  ?epochs/s"
      ]
     },
     "metadata": {},
     "output_type": "display_data"
    },
    {
     "name": "stdout",
     "output_type": "stream",
     "text": [
      "-----------------------------------------------------------------\n",
      "Validation Scores:\n",
      "-----------------------------------------------------------------\n",
      "MAE = 0.918 um\n",
      "MSE = 1.834 um^2\n",
      "R^2 = 0.983\n"
     ]
    }
   ],
   "source": [
    "hparams = {\n",
    "            'epochs': 500,\n",
    "            'loss': 'mse',\n",
    "            'no_nodes': 128,\n",
    "            'seq_len': 10,\n",
    "            }\n",
    "\n",
    "lstm_reg = LSTM_Model(feature_df=main_df,\n",
    "target='Mean radius',\n",
    "tb=False,\n",
    "tb_logdir='hparam_test_3',\n",
    "params=hparams\n",
    ")\n",
    "lstm_reg.cv(n_splits=10, n_repeats=10)\n",
    "lstm_reg.fit(validation_split=0.1, verbose=0)\n",
    "lstm_reg.score(plot_fig=False);"
   ]
  },
  {
   "cell_type": "code",
   "execution_count": null,
   "id": "3958c212-b57c-4e44-ade8-c033dab0ea5d",
   "metadata": {},
   "outputs": [],
   "source": []
  }
 ],
 "metadata": {
  "kernelspec": {
   "display_name": "Python 3 (ipykernel)",
   "language": "python",
   "name": "python3"
  },
  "language_info": {
   "codemirror_mode": {
    "name": "ipython",
    "version": 3
   },
   "file_extension": ".py",
   "mimetype": "text/x-python",
   "name": "python",
   "nbconvert_exporter": "python",
   "pygments_lexer": "ipython3",
   "version": "3.10.8"
  }
 },
 "nbformat": 4,
 "nbformat_minor": 5
}
