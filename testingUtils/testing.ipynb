{
 "cells": [
  {
   "cell_type": "code",
   "execution_count": null,
   "metadata": {},
   "outputs": [],
   "source": [
    "import os\n",
    "os.environ['TF_CPP_MIN_LOG_LEVEL'] = '3'\n",
    "import src\n",
    "from testingUtils import testing_main as tm\n",
    "import matplotlib.pyplot as plt\n",
    "import numpy as np\n",
    "\n",
    "\n",
    "import src\n",
    "from src.nc4.BJDSprialScan import processExpSprialScans\n",
    "# import matplotlib as mp\n",
    "# mpl.use('TkAgg')\n",
    "%matplotlib inline\n",
    "\n",
    "%load_ext autoreload\n",
    "%autoreload 2"
   ]
  },
  {
   "cell_type": "code",
   "execution_count": null,
   "metadata": {},
   "outputs": [],
   "source": [
    "HOME_DIR, BASE_DIR, CODE_DIR, TB_DIR, RMS_DATA_DIR = src.config.config_paths()"
   ]
  },
  {
   "attachments": {},
   "cell_type": "markdown",
   "metadata": {},
   "source": [
    "# Testing Main Notebook\n",
    "\n",
    "`testing_main.py` contains multiple functions:\n",
    "- `main()`: choose an exp to load in, update and save it.\n",
    "- `update(exp)`: update exp with new data, and display nc4.\n",
    "- `check_ae(exp)`: plot last file of AE data in test.\n",
    "- `check_nc4(exp)`: calc last NC4 file attributes and plot results."
   ]
  },
  {
   "cell_type": "code",
   "execution_count": null,
   "metadata": {},
   "outputs": [],
   "source": [
    "exp = tm.main()"
   ]
  },
  {
   "cell_type": "code",
   "execution_count": null,
   "metadata": {},
   "outputs": [],
   "source": [
    "exp.save()"
   ]
  },
  {
   "cell_type": "code",
   "execution_count": null,
   "metadata": {},
   "outputs": [],
   "source": [
    "f = tm.update(exp)"
   ]
  },
  {
   "cell_type": "code",
   "execution_count": null,
   "metadata": {},
   "outputs": [],
   "source": [
    "tm.check_ae(exp)"
   ]
  },
  {
   "cell_type": "code",
   "execution_count": null,
   "metadata": {},
   "outputs": [],
   "source": [
    "exp.nc4.process()"
   ]
  },
  {
   "cell_type": "code",
   "execution_count": null,
   "metadata": {},
   "outputs": [],
   "source": [
    "f = exp.nc4.plot_xy()\n",
    "f = exp.nc4.plot_att()"
   ]
  },
  {
   "cell_type": "code",
   "execution_count": null,
   "metadata": {},
   "outputs": [],
   "source": [
    "exp.nc4.plot_surf()"
   ]
  },
  {
   "cell_type": "code",
   "execution_count": null,
   "metadata": {},
   "outputs": [],
   "source": [
    "exp.probe\n",
    "if exp.probe is not None:\n",
    "    exp.probe.plot_probe_DOC()"
   ]
  },
  {
   "cell_type": "code",
   "execution_count": null,
   "metadata": {},
   "outputs": [],
   "source": [
    "exp.save()"
   ]
  },
  {
   "cell_type": "code",
   "execution_count": null,
   "metadata": {},
   "outputs": [],
   "source": [
    "# NC4 Spiral Scans\n",
    "NOM_DIA = 1.3\n",
    "FEEDRATE = 2\n",
    "RPM = 60\n",
    "FS = 50_000\n",
    "YOFFSET = 0.03\n",
    "CALFEEDRATE = 60\n",
    "\n",
    "SCPath = CODE_DIR.joinpath(\n",
    "    r'src/reference/NC4_BJD_SCurve_2024_05_30_14_17_12-Ch0-50kHz.tdms'\n",
    ")\n",
    "assert SCPath.exists(), \"SCurve calibration file not found.\"\n",
    "\n",
    "expSpiralScans = processExpSprialScans(exp,\n",
    "                                       SCPath,\n",
    "                                       NOM_DIA,\n",
    "                                       FEEDRATE,\n",
    "                                       RPM,\n",
    "                                       FS,\n",
    "                                       YOFFSET,\n",
    "                                       CALFEEDRATE,\n",
    "                                       )\n",
    "\n",
    "for sc in expSpiralScans:\n",
    "    fig, ax = sc.plotSpiralScan(saveFig=True)\n",
    "    plt.close(fig)"
   ]
  },
  {
   "cell_type": "markdown",
   "metadata": {},
   "source": [
    "### Extra Processing - Wait till CUSP"
   ]
  },
  {
   "cell_type": "code",
   "execution_count": null,
   "metadata": {},
   "outputs": [],
   "source": [
    "exp.ae.process()"
   ]
  },
  {
   "cell_type": "code",
   "execution_count": null,
   "metadata": {},
   "outputs": [],
   "source": [
    "exp.create_feat_df();"
   ]
  },
  {
   "cell_type": "code",
   "execution_count": null,
   "metadata": {},
   "outputs": [],
   "source": [
    "exp.save()"
   ]
  },
  {
   "cell_type": "code",
   "execution_count": null,
   "metadata": {},
   "outputs": [],
   "source": [
    "plt.plot(exp.features['Kurtosis'])"
   ]
  },
  {
   "cell_type": "code",
   "execution_count": null,
   "metadata": {},
   "outputs": [],
   "source": [
    "plt.plot(exp.features['RMS'])\n",
    "plt.minorticks_on()\n",
    "plt.grid(True, which='both')"
   ]
  },
  {
   "cell_type": "code",
   "execution_count": null,
   "metadata": {},
   "outputs": [],
   "source": [
    "plt.plot(exp.features['Mean radius'])\n",
    "plt.twinx()\n",
    "plt.plot(exp.features['Avg probe'], 'C1')"
   ]
  },
  {
   "cell_type": "code",
   "execution_count": null,
   "metadata": {},
   "outputs": [],
   "source": [
    "# nc4_df = exp.features.loc[:, ['Mean radius', 'Peak radius', 'Runout', 'Form error']]\n",
    "# nc4_df.head()\n",
    "# nc4_df.to_csv(fr'{exp.dataloc}\\NC4Data.csv')"
   ]
  }
 ],
 "metadata": {
  "kernelspec": {
   "display_name": "tf",
   "language": "python",
   "name": "python3"
  },
  "language_info": {
   "codemirror_mode": {
    "name": "ipython",
    "version": 3
   },
   "file_extension": ".py",
   "mimetype": "text/x-python",
   "name": "python",
   "nbconvert_exporter": "python",
   "pygments_lexer": "ipython3",
   "version": "3.10.8"
  },
  "orig_nbformat": 4
 },
 "nbformat": 4,
 "nbformat_minor": 2
}
